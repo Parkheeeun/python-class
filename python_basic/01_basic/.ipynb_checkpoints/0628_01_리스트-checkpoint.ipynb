{
 "cells": [
  {
   "cell_type": "code",
   "execution_count": 1,
   "id": "a6991900-9941-43e2-8203-bf0e8ee63586",
   "metadata": {},
   "outputs": [],
   "source": [
    "a=[0,1,2,3,4]"
   ]
  },
  {
   "cell_type": "code",
   "execution_count": 2,
   "id": "f5d66446-be0f-4d04-a3e4-2ff02e2adcd0",
   "metadata": {},
   "outputs": [],
   "source": [
    "a.remove(1)"
   ]
  },
  {
   "cell_type": "code",
   "execution_count": 3,
   "id": "492b4f16-6ae8-48e4-ab76-0708257cb5ea",
   "metadata": {},
   "outputs": [
    {
     "data": {
      "text/plain": [
       "[0, 2, 3, 4]"
      ]
     },
     "execution_count": 3,
     "metadata": {},
     "output_type": "execute_result"
    }
   ],
   "source": [
    "a"
   ]
  },
  {
   "cell_type": "code",
   "execution_count": 4,
   "id": "d5084bb6-8077-4efe-bd4d-312bda419cb4",
   "metadata": {},
   "outputs": [
    {
     "data": {
      "text/plain": [
       "4"
      ]
     },
     "execution_count": 4,
     "metadata": {},
     "output_type": "execute_result"
    }
   ],
   "source": [
    "a.pop()"
   ]
  },
  {
   "cell_type": "code",
   "execution_count": 5,
   "id": "338ad7f6-c4b5-4b84-9122-571d4dccb11f",
   "metadata": {},
   "outputs": [
    {
     "data": {
      "text/plain": [
       "[0, 2, 3]"
      ]
     },
     "execution_count": 5,
     "metadata": {},
     "output_type": "execute_result"
    }
   ],
   "source": [
    "a"
   ]
  },
  {
   "cell_type": "code",
   "execution_count": 6,
   "id": "0ef6be96-27de-4c03-a637-b67f4f603114",
   "metadata": {},
   "outputs": [
    {
     "data": {
      "text/plain": [
       "1"
      ]
     },
     "execution_count": 6,
     "metadata": {},
     "output_type": "execute_result"
    }
   ],
   "source": [
    "a.count(2)"
   ]
  },
  {
   "cell_type": "code",
   "execution_count": 7,
   "id": "a0beef96-2a27-440c-a890-b95580b8b2a7",
   "metadata": {},
   "outputs": [],
   "source": [
    "#타자게임\n",
    "#데이터저장: word=[]\n",
    "#word리스트에서 문제를 추출하여 제출하면 맞추는게임"
   ]
  },
  {
   "cell_type": "code",
   "execution_count": 13,
   "id": "c9b13257-277b-4471-8b4f-98e60bcd6284",
   "metadata": {},
   "outputs": [],
   "source": [
    "import random"
   ]
  },
  {
   "cell_type": "code",
   "execution_count": 3,
   "id": "8f8118f1-052b-48cf-81fc-912e605c3edf",
   "metadata": {},
   "outputs": [
    {
     "ename": "NameError",
     "evalue": "name 'random' is not defined",
     "output_type": "error",
     "traceback": [
      "\u001b[0;31m---------------------------------------------------------------------------\u001b[0m",
      "\u001b[0;31mNameError\u001b[0m                                 Traceback (most recent call last)",
      "Input \u001b[0;32mIn [3]\u001b[0m, in \u001b[0;36m<cell line: 2>\u001b[0;34m()\u001b[0m\n\u001b[1;32m      1\u001b[0m word\u001b[38;5;241m=\u001b[39m[\u001b[38;5;124m'\u001b[39m\u001b[38;5;124mcat\u001b[39m\u001b[38;5;124m'\u001b[39m,\u001b[38;5;124m'\u001b[39m\u001b[38;5;124mdog\u001b[39m\u001b[38;5;124m'\u001b[39m,\u001b[38;5;124m'\u001b[39m\u001b[38;5;124mtiger\u001b[39m\u001b[38;5;124m'\u001b[39m,\u001b[38;5;124m'\u001b[39m\u001b[38;5;124mlion\u001b[39m\u001b[38;5;124m'\u001b[39m]\n\u001b[0;32m----> 2\u001b[0m \u001b[43mrandom\u001b[49m\u001b[38;5;241m.\u001b[39mchoice(word)\n",
      "\u001b[0;31mNameError\u001b[0m: name 'random' is not defined"
     ]
    }
   ],
   "source": [
    "#word=['cat','dog','tiger','lion']\n",
    "random.choice(word)"
   ]
  },
  {
   "cell_type": "code",
   "execution_count": 15,
   "id": "9f480214-17ce-43a0-82c1-ab8b43022a52",
   "metadata": {},
   "outputs": [
    {
     "name": "stdout",
     "output_type": "stream",
     "text": [
      "1번\n",
      "dog\n"
     ]
    },
    {
     "name": "stdin",
     "output_type": "stream",
     "text": [
      ">>> dog\n"
     ]
    },
    {
     "name": "stdout",
     "output_type": "stream",
     "text": [
      "통과!\n",
      "2번\n",
      "dog\n"
     ]
    },
    {
     "name": "stdin",
     "output_type": "stream",
     "text": [
      ">>> dog\n"
     ]
    },
    {
     "name": "stdout",
     "output_type": "stream",
     "text": [
      "통과!\n",
      "3번\n",
      "cat\n"
     ]
    },
    {
     "name": "stdin",
     "output_type": "stream",
     "text": [
      ">>> cae\n"
     ]
    },
    {
     "name": "stdout",
     "output_type": "stream",
     "text": [
      "실패 다시도전하세요!\n",
      "3번\n",
      "cat\n"
     ]
    },
    {
     "name": "stdin",
     "output_type": "stream",
     "text": [
      ">>> car\n"
     ]
    },
    {
     "name": "stdout",
     "output_type": "stream",
     "text": [
      "실패 다시도전하세요!\n",
      "3번\n",
      "cat\n"
     ]
    },
    {
     "name": "stdin",
     "output_type": "stream",
     "text": [
      ">>> cat\n"
     ]
    },
    {
     "name": "stdout",
     "output_type": "stream",
     "text": [
      "통과!\n",
      "4번\n",
      "tiger\n"
     ]
    },
    {
     "name": "stdin",
     "output_type": "stream",
     "text": [
      ">>> tiger'\n"
     ]
    },
    {
     "name": "stdout",
     "output_type": "stream",
     "text": [
      "실패 다시도전하세요!\n",
      "4번\n",
      "tiger\n"
     ]
    },
    {
     "name": "stdin",
     "output_type": "stream",
     "text": [
      ">>> tiger\n"
     ]
    },
    {
     "name": "stdout",
     "output_type": "stream",
     "text": [
      "통과!\n",
      "5번\n",
      "tiger\n"
     ]
    },
    {
     "name": "stdin",
     "output_type": "stream",
     "text": [
      ">>> tiger\n"
     ]
    },
    {
     "name": "stdout",
     "output_type": "stream",
     "text": [
      "통과!\n"
     ]
    }
   ],
   "source": [
    "n=1\n",
    "quiz=random.choice(word)\n",
    "while n<=5:\n",
    "    print(f'{n}번')\n",
    "    print(quiz)\n",
    "    result=input('>>>')\n",
    "    if quiz==result:\n",
    "        print('통과!')\n",
    "        n+=1\n",
    "        quiz=random.choice(word)\n",
    "    else:\n",
    "        print('실패 다시도전하세요!')"
   ]
  },
  {
   "cell_type": "code",
   "execution_count": 1,
   "id": "ff99d69f-b2a1-49c1-a777-b980b7f79062",
   "metadata": {},
   "outputs": [],
   "source": [
    "#저장\n",
    "import json,pickle"
   ]
  },
  {
   "cell_type": "code",
   "execution_count": 9,
   "id": "8b1210a1-1f5b-402e-b59d-06effac386e9",
   "metadata": {},
   "outputs": [],
   "source": [
    "word=['cat','dog','tiger','lion']\n",
    "f=open('word.json','w')\n",
    "json.dump(word,f)\n",
    "f.close()"
   ]
  },
  {
   "cell_type": "code",
   "execution_count": 11,
   "id": "dece0077-a943-46b1-923e-8e332a22e401",
   "metadata": {},
   "outputs": [],
   "source": [
    "import time"
   ]
  },
  {
   "cell_type": "code",
   "execution_count": 22,
   "id": "af7735a6-43c3-4732-8b4d-7046f8f41c21",
   "metadata": {},
   "outputs": [
    {
     "data": {
      "text/plain": [
       "['aaa', 'bbb', 'ccc']"
      ]
     },
     "execution_count": 22,
     "metadata": {},
     "output_type": "execute_result"
    }
   ],
   "source": [
    "rank={'aaa':11.4567543,'bbb':7.9800987,'ccc':2.987888}\n",
    "sorted(rank)"
   ]
  },
  {
   "cell_type": "code",
   "execution_count": 23,
   "id": "6cc396c0-0a8d-4ed3-a9b7-f791ef571301",
   "metadata": {},
   "outputs": [
    {
     "data": {
      "text/plain": [
       "dict_items([('aaa', 11.4567543), ('bbb', 7.9800987), ('ccc', 2.987888)])"
      ]
     },
     "execution_count": 23,
     "metadata": {},
     "output_type": "execute_result"
    }
   ],
   "source": [
    "rank.items()"
   ]
  },
  {
   "cell_type": "code",
   "execution_count": 24,
   "id": "f08ba3b9-dc52-497a-96b0-05551cffd9ca",
   "metadata": {},
   "outputs": [
    {
     "data": {
      "text/plain": [
       "[('aaa', 11.4567543), ('bbb', 7.9800987), ('ccc', 2.987888)]"
      ]
     },
     "execution_count": 24,
     "metadata": {},
     "output_type": "execute_result"
    }
   ],
   "source": [
    "sorted(rank.items(),key=lambda x:x[1], reverse=True)"
   ]
  },
  {
   "cell_type": "code",
   "execution_count": 30,
   "id": "6065c325-61a2-4da1-9151-4ddaf25be414",
   "metadata": {},
   "outputs": [
    {
     "data": {
      "text/plain": [
       "{'aaa': 11.4567543, 'bbb': 7.9800987, 'ccc': 2.987888}"
      ]
     },
     "execution_count": 30,
     "metadata": {},
     "output_type": "execute_result"
    }
   ],
   "source": [
    "rank"
   ]
  },
  {
   "cell_type": "code",
   "execution_count": 44,
   "id": "bf820731-6262-4aac-80d6-68fec9e5f8c9",
   "metadata": {},
   "outputs": [
    {
     "name": "stdin",
     "output_type": "stream",
     "text": [
      "\n",
      "--------------------------------------------------------\n",
      "1.게임    2.문제추가     3.문제저장     4.등수리스트   5.종료\n",
      "--------------------------------------------------------\n",
      ">>> 5\n"
     ]
    },
    {
     "name": "stdout",
     "output_type": "stream",
     "text": [
      "종료\n"
     ]
    }
   ],
   "source": [
    "import json\n",
    "word=['cat','dog','tiger','lion']\n",
    "f=open('word.json','w')\n",
    "json.dump(word,f)\n",
    "f.close()\n",
    "f=open('word.json','r')\n",
    "word_1=json.load(f)\n",
    "f.close()\n",
    "rank={'박효진':11.4567543,'김시영':7.9800987,'박희은':2.987888}\n",
    "\n",
    "menu_display='''\n",
    "--------------------------------------------------------\n",
    "1.게임    2.문제추가     3.문제저장     4.등수리스트   5.종료\n",
    "--------------------------------------------------------\n",
    ">>>'''\n",
    "\n",
    "while True:\n",
    "    menu=input(menu_display)\n",
    "    if menu=='1':\n",
    "        print('게임시작')\n",
    "        start=time.time()\n",
    "        n=1\n",
    "        quiz=random.choice(word)\n",
    "        while n<=5:\n",
    "            print(f'{n}번')\n",
    "            print(quiz)\n",
    "            result=input('>>>')\n",
    "            if quiz==result:\n",
    "                print('통과!')\n",
    "                n+=1\n",
    "                quiz=random.choice(word)\n",
    "            else:\n",
    "                print('실패 다시도전하세요!')\n",
    "        print('5문제완료')\n",
    "        end=time.time()\n",
    "        print(f'걸린시간:{end-start:.0f}초')\n",
    "        name=input('이름을 입력하세요')\n",
    "        rank[name]=end-start\n",
    "        print(rank)\n",
    "    elif menu=='2':\n",
    "        print('문제추가')\n",
    "        while True:\n",
    "            ques=input('(종료:enter) >>>')\n",
    "            if ques==' ':\n",
    "                break\n",
    "            word.append(ques)\n",
    "            print(word)\n",
    "    elif menu=='3':\n",
    "        print('문제저장')\n",
    "    elif menu=='4':\n",
    "        print('등수리스트')\n",
    "        for index,(k,v) in enumerate(sorted(rank.items(),key=lambda x:x[1])):\n",
    "            print(f'{index+1}등 {k} 시간:{v:.0f}초')\n",
    "    elif menu=='5':\n",
    "        print('종료')\n",
    "        f=open('word.json','w')\n",
    "        json.dump(word,f)\n",
    "        f.close()\n",
    "        break\n",
    "    else:\n",
    "        print('번호를다시입력하세요')"
   ]
  },
  {
   "cell_type": "code",
   "execution_count": 45,
   "id": "20f231c6-fbd1-4bd9-b4a1-d19fd188be39",
   "metadata": {},
   "outputs": [],
   "source": [
    "#커피자판기\n",
    "#1.커피자판기 2.메뉴추가 3.메뉴삭제 4.메뉴목록 5.종료\n",
    "\n",
    "#프로그램이 시작될때 필요한 정보를 읽어서 시작합니다.\n",
    "#1.커피자판기 무한반복하면서 돈을 입력받고, 메뉴를 선택해서 처리\n",
    "#2.메뉴추가 자판기에서 판매하는 메뉴를 추가하는 기능(메뉴명,가격)\n",
    "#3.메뉴삭제 전체목록을 보여주고 삭제하고자하는 항목을 선택하도록해서 삭제처리\n",
    "#4.메뉴목록 메뉴이름순이나 메뉴가격순으로 정렬해서 보여줌.\n",
    "#5.종료 저장할 정보가 있으면 저장하고 종료합니다."
   ]
  },
  {
   "cell_type": "code",
   "execution_count": 89,
   "id": "317d2765-398f-41a4-8692-d15df1021e6f",
   "metadata": {},
   "outputs": [
    {
     "name": "stdin",
     "output_type": "stream",
     "text": [
      "\n",
      "--------------------------------------------------------\n",
      "1.커피자판기    2.메뉴추가     3.메뉴삭제     4.메뉴목록   5.종료\n",
      "--------------------------------------------------------\n",
      ">>> 1\n"
     ]
    },
    {
     "name": "stdout",
     "output_type": "stream",
     "text": [
      "아메리카노:2500원 아이스라떼:2000원 당근주스:4000원 \n"
     ]
    },
    {
     "name": "stdin",
     "output_type": "stream",
     "text": [
      "메뉴선택(종료:enter)>>> 아메리카노\n",
      "금액투입>> 1000\n"
     ]
    },
    {
     "name": "stdout",
     "output_type": "stream",
     "text": [
      "금액부족\n",
      "아메리카노:2500원 아이스라떼:2000원 당근주스:4000원 \n"
     ]
    },
    {
     "name": "stdin",
     "output_type": "stream",
     "text": [
      "메뉴선택(종료:enter)>>> 아메리카노\n",
      "금액투입>> 2500\n"
     ]
    },
    {
     "name": "stdout",
     "output_type": "stream",
     "text": [
      "아메리카노판매 잔돈:0원\n",
      "아메리카노:2500원 아이스라떼:2000원 당근주스:4000원 \n"
     ]
    },
    {
     "name": "stdin",
     "output_type": "stream",
     "text": [
      "메뉴선택(종료:enter)>>> \n",
      "\n",
      "--------------------------------------------------------\n",
      "1.커피자판기    2.메뉴추가     3.메뉴삭제     4.메뉴목록   5.종료\n",
      "--------------------------------------------------------\n",
      ">>> 5\n"
     ]
    },
    {
     "name": "stdout",
     "output_type": "stream",
     "text": [
      "종료\n"
     ]
    }
   ],
   "source": [
    "'''\n",
    "import json\n",
    "menus=['아메리카노','아이스라떼','토피넛라떼','딸기라떼']\n",
    "f=open('menus.json','w')\n",
    "json.dump(menus,f)\n",
    "f.close()\n",
    "f=open('menus.json','r')\n",
    "menus_1=json.load(f)\n",
    "f.close()\n",
    "rank={'아메리카노':2500,'아이스라떼':3000,'토피넛라떼':4300,'딸기라떼':4000,'아이스티':2500}\n",
    "'''\n",
    "item={'아메리카노':2500, '아이스라떼':2000,'당근주스':4000}\n",
    "menu_display='''\n",
    "--------------------------------------------------------\n",
    "1.커피자판기    2.메뉴추가     3.메뉴삭제     4.메뉴목록   5.종료\n",
    "--------------------------------------------------------\n",
    ">>>'''\n",
    "#1.커피자판기 무한반복하면서 돈을 입력받고, 메뉴를 선택해서 처리\n",
    "while True:\n",
    "    menu=input(menu_display)\n",
    "    if menu=='1':\n",
    "        choice='선택한메뉴'\n",
    "        while choice:\n",
    "            for k,v in item.items():\n",
    "                print(f'{k}:{v}원',end=' ' )\n",
    "            print()\n",
    "            choice=input('메뉴선택(종료:enter)>>>')\n",
    "            if choice=='':\n",
    "                break\n",
    "            money=input('금액투입>>')\n",
    "            if money=='':\n",
    "                break\n",
    "            money=int(money)\n",
    "            if choice in item.keys(): ##item안에 입력한 메뉴가 있는지확인\n",
    "                if money >= item[choice]:\n",
    "                    money=money-item[choice]\n",
    "                    print(f'{choice}판매 잔돈:{money}원')\n",
    "                else:\n",
    "                    print('금액부족')\n",
    "            else: ##item안에 입력한 메뉴가 없을때 출력\n",
    "                print('해당메뉴는 없습니다.')\n",
    "    elif menu=='2':\n",
    "        print('메뉴추가')\n",
    "        data_name=input('메뉴이름을 입력하세요>>')\n",
    "        data_price=''\n",
    "        while not data_price.isdigit():\n",
    "            data_price=input('메뉴가격을 입력하세요>>')\n",
    "        data_price=int(data_price)\n",
    "            \n",
    "        if data_name in item.keys():\n",
    "            print(f'{data_name}메뉴가 존재합니다. 수정합니다.')\n",
    "        else:\n",
    "            print(f'{data_name}메뉴를 추가합니다')\n",
    "        item[data_name]=data_price\n",
    "        print(item)\n",
    "    elif menu=='3':\n",
    "        print('메뉴삭제')\n",
    "        data_name=input('삭제하려는메뉴명>>')\n",
    "        if data_name in item.keys():\n",
    "            print(f'{data_name}메뉴를삭제합니다.')\n",
    "            del item[data_name]\n",
    "        else:\n",
    "            print('없는메뉴입니다.')\n",
    "        print(item)\n",
    "    elif menu=='4':\n",
    "        print('메뉴목록')\n",
    "        menu_1=input('1.메뉴이름순 2.메뉴가격순 >>')\n",
    "        if menu_1=='1':\n",
    "             for k,v in sorted(item.items(),key=lambda x:x[0]):\n",
    "                print(f'{k:25}:{v:10,}원')\n",
    "        elif menu_1=='2':\n",
    "             for k,v in sorted(item.items(), key=lambda x:x[1]):\n",
    "                print(f'{k:25}:{v:10,}원')\n",
    "    elif menu=='5':\n",
    "        print('종료')\n",
    "        break\n",
    "    else:\n",
    "        print('번호를 다시 입력해주세요!!');"
   ]
  },
  {
   "cell_type": "code",
   "execution_count": 73,
   "id": "a679d4c5-ddd9-4a6b-8ac0-8c8fbc144b4d",
   "metadata": {},
   "outputs": [
    {
     "data": {
      "text/plain": [
       "{}"
      ]
     },
     "execution_count": 73,
     "metadata": {},
     "output_type": "execute_result"
    }
   ],
   "source": [
    "item"
   ]
  },
  {
   "cell_type": "code",
   "execution_count": null,
   "id": "886fc19b-cf7f-415a-88b9-069eff1267c0",
   "metadata": {},
   "outputs": [],
   "source": []
  }
 ],
 "metadata": {
  "kernelspec": {
   "display_name": "Python 3 (ipykernel)",
   "language": "python",
   "name": "python3"
  },
  "language_info": {
   "codemirror_mode": {
    "name": "ipython",
    "version": 3
   },
   "file_extension": ".py",
   "mimetype": "text/x-python",
   "name": "python",
   "nbconvert_exporter": "python",
   "pygments_lexer": "ipython3",
   "version": "3.9.12"
  }
 },
 "nbformat": 4,
 "nbformat_minor": 5
}
