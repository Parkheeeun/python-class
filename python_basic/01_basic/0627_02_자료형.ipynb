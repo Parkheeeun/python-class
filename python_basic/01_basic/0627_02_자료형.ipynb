{
 "cells": [
  {
   "cell_type": "raw",
   "id": "43c0e2af-dc77-4b43-a1a9-3c157653a861",
   "metadata": {},
   "source": [
    "숫자형"
   ]
  },
  {
   "cell_type": "markdown",
   "id": "d686c59f-73b8-45a9-918f-405a2f390ef0",
   "metadata": {},
   "source": [
    "# 숫자형"
   ]
  },
  {
   "cell_type": "code",
   "execution_count": 1,
   "id": "8b42ec68-9bd4-44fd-ac70-3d84ab5dde9a",
   "metadata": {},
   "outputs": [],
   "source": [
    "a= 123"
   ]
  },
  {
   "cell_type": "code",
   "execution_count": 2,
   "id": "66c32b86-b6b9-44fd-9b05-cc5f504096bf",
   "metadata": {},
   "outputs": [
    {
     "name": "stdout",
     "output_type": "stream",
     "text": [
      "123\n"
     ]
    }
   ],
   "source": [
    "print(a)"
   ]
  },
  {
   "cell_type": "code",
   "execution_count": 3,
   "id": "37a58425-22cd-430f-a4bb-e3ce6bc99663",
   "metadata": {},
   "outputs": [
    {
     "data": {
      "text/plain": [
       "123"
      ]
     },
     "execution_count": 3,
     "metadata": {},
     "output_type": "execute_result"
    }
   ],
   "source": [
    "a"
   ]
  },
  {
   "cell_type": "code",
   "execution_count": 4,
   "id": "6c039305-035f-4ef2-8306-16024f67cffe",
   "metadata": {},
   "outputs": [],
   "source": [
    "b=456"
   ]
  },
  {
   "cell_type": "code",
   "execution_count": 5,
   "id": "00ff74e5-8081-44ce-88ca-59aa2b380373",
   "metadata": {},
   "outputs": [
    {
     "data": {
      "text/plain": [
       "123"
      ]
     },
     "execution_count": 5,
     "metadata": {},
     "output_type": "execute_result"
    }
   ],
   "source": [
    "a"
   ]
  },
  {
   "cell_type": "code",
   "execution_count": 6,
   "id": "94a4eb62-fa4a-4eea-a714-e9ca98b94cf5",
   "metadata": {},
   "outputs": [
    {
     "data": {
      "text/plain": [
       "456"
      ]
     },
     "execution_count": 6,
     "metadata": {},
     "output_type": "execute_result"
    }
   ],
   "source": [
    "b"
   ]
  },
  {
   "cell_type": "code",
   "execution_count": 7,
   "id": "96fb1315-9ee9-4b32-970b-926e7db26823",
   "metadata": {},
   "outputs": [
    {
     "data": {
      "text/plain": [
       "579"
      ]
     },
     "execution_count": 7,
     "metadata": {},
     "output_type": "execute_result"
    }
   ],
   "source": [
    "a+b"
   ]
  },
  {
   "cell_type": "code",
   "execution_count": 8,
   "id": "79569ed3-d410-4c09-94ee-f3993a9f5524",
   "metadata": {},
   "outputs": [
    {
     "data": {
      "text/plain": [
       "456"
      ]
     },
     "execution_count": 8,
     "metadata": {},
     "output_type": "execute_result"
    }
   ],
   "source": [
    "a\n",
    "b"
   ]
  },
  {
   "cell_type": "code",
   "execution_count": 9,
   "id": "019be444-97c1-4f68-98ad-76efbec12fda",
   "metadata": {},
   "outputs": [
    {
     "name": "stdout",
     "output_type": "stream",
     "text": [
      "123\n"
     ]
    },
    {
     "data": {
      "text/plain": [
       "456"
      ]
     },
     "execution_count": 9,
     "metadata": {},
     "output_type": "execute_result"
    }
   ],
   "source": [
    "print(a)\n",
    "b"
   ]
  },
  {
   "cell_type": "code",
   "execution_count": 10,
   "id": "17374cf8-0285-4de7-a08a-573213e49825",
   "metadata": {},
   "outputs": [
    {
     "name": "stdout",
     "output_type": "stream",
     "text": [
      "123\n",
      "456\n",
      "579\n"
     ]
    }
   ],
   "source": [
    "print(a)\n",
    "print(b)\n",
    "print(a+b)"
   ]
  },
  {
   "cell_type": "code",
   "execution_count": 12,
   "id": "4577cd80-a318-4106-b7e4-9c12a5acae8e",
   "metadata": {},
   "outputs": [
    {
     "name": "stdout",
     "output_type": "stream",
     "text": [
      "123\n",
      "456\n",
      "=\n",
      "579\n"
     ]
    }
   ],
   "source": [
    "print(a)\n",
    "print(b)\n",
    "print('=')\n",
    "print(a+b)\n"
   ]
  },
  {
   "cell_type": "code",
   "execution_count": 13,
   "id": "5b8e7d2d-8f1f-4349-ad89-a85beece4b61",
   "metadata": {},
   "outputs": [
    {
     "data": {
      "text/plain": [
       "(123, 456)"
      ]
     },
     "execution_count": 13,
     "metadata": {},
     "output_type": "execute_result"
    }
   ],
   "source": [
    "a,b"
   ]
  },
  {
   "cell_type": "code",
   "execution_count": 14,
   "id": "7e3f15dd-cd3c-46d8-85ef-4c8fe8a2fb3b",
   "metadata": {},
   "outputs": [
    {
     "data": {
      "text/plain": [
       "False"
      ]
     },
     "execution_count": 14,
     "metadata": {},
     "output_type": "execute_result"
    }
   ],
   "source": [
    "a>b"
   ]
  },
  {
   "cell_type": "code",
   "execution_count": 15,
   "id": "c3338242-88fe-49df-8327-940986a6eb47",
   "metadata": {},
   "outputs": [
    {
     "data": {
      "text/plain": [
       "True"
      ]
     },
     "execution_count": 15,
     "metadata": {},
     "output_type": "execute_result"
    }
   ],
   "source": [
    "a<b"
   ]
  },
  {
   "cell_type": "code",
   "execution_count": 16,
   "id": "95a9d3ec-5702-44ce-9e37-fa3f4ad82a1e",
   "metadata": {},
   "outputs": [],
   "source": [
    "a=b"
   ]
  },
  {
   "cell_type": "code",
   "execution_count": 17,
   "id": "f9375b8f-6bde-4c93-b07f-0e51cca45ec8",
   "metadata": {},
   "outputs": [
    {
     "data": {
      "text/plain": [
       "456"
      ]
     },
     "execution_count": 17,
     "metadata": {},
     "output_type": "execute_result"
    }
   ],
   "source": [
    "a"
   ]
  },
  {
   "cell_type": "code",
   "execution_count": 18,
   "id": "2d18dc2a-7ccc-45f1-95bf-4877170ec6cf",
   "metadata": {},
   "outputs": [
    {
     "data": {
      "text/plain": [
       "456"
      ]
     },
     "execution_count": 18,
     "metadata": {},
     "output_type": "execute_result"
    }
   ],
   "source": [
    "b"
   ]
  },
  {
   "cell_type": "code",
   "execution_count": 19,
   "id": "1c694786-cacc-4c43-885b-ca735162113d",
   "metadata": {},
   "outputs": [
    {
     "data": {
      "text/plain": [
       "int"
      ]
     },
     "execution_count": 19,
     "metadata": {},
     "output_type": "execute_result"
    }
   ],
   "source": [
    "type(a)"
   ]
  },
  {
   "cell_type": "code",
   "execution_count": 20,
   "id": "7bfb7f04-b61b-4996-a2f5-a0a2f6b121ed",
   "metadata": {},
   "outputs": [
    {
     "data": {
      "text/plain": [
       "int"
      ]
     },
     "execution_count": 20,
     "metadata": {},
     "output_type": "execute_result"
    }
   ],
   "source": [
    "type(b)"
   ]
  },
  {
   "cell_type": "code",
   "execution_count": 21,
   "id": "387eee31-65a6-4078-8004-4d845d483fcd",
   "metadata": {},
   "outputs": [],
   "source": [
    "c='hi'"
   ]
  },
  {
   "cell_type": "code",
   "execution_count": 22,
   "id": "ba71df63-69e7-484e-aad1-b72a1087418e",
   "metadata": {},
   "outputs": [
    {
     "data": {
      "text/plain": [
       "str"
      ]
     },
     "execution_count": 22,
     "metadata": {},
     "output_type": "execute_result"
    }
   ],
   "source": [
    "type(c)"
   ]
  },
  {
   "cell_type": "code",
   "execution_count": 23,
   "id": "56900ce4-c835-472c-a8c7-8d5f873bac90",
   "metadata": {},
   "outputs": [],
   "source": [
    "c='Life is short, You need python'"
   ]
  },
  {
   "cell_type": "code",
   "execution_count": 24,
   "id": "3b6befe2-bb20-49c9-bc42-a1f5774a63af",
   "metadata": {},
   "outputs": [
    {
     "data": {
      "text/plain": [
       "'Life is short, You need python'"
      ]
     },
     "execution_count": 24,
     "metadata": {},
     "output_type": "execute_result"
    }
   ],
   "source": [
    "c"
   ]
  },
  {
   "cell_type": "code",
   "execution_count": 25,
   "id": "e1d25b96-039e-410d-bdd2-b87476f21255",
   "metadata": {},
   "outputs": [],
   "source": [
    "a=4.24E10"
   ]
  },
  {
   "cell_type": "code",
   "execution_count": 27,
   "id": "7add0711-0425-490b-82de-db01e1ae4d0b",
   "metadata": {},
   "outputs": [
    {
     "data": {
      "text/plain": [
       "1.75"
      ]
     },
     "execution_count": 27,
     "metadata": {},
     "output_type": "execute_result"
    }
   ],
   "source": [
    "7/4"
   ]
  },
  {
   "cell_type": "code",
   "execution_count": 28,
   "id": "87dc4dc5-d760-4231-bf6f-ebcf168e1188",
   "metadata": {},
   "outputs": [
    {
     "data": {
      "text/plain": [
       "1"
      ]
     },
     "execution_count": 28,
     "metadata": {},
     "output_type": "execute_result"
    }
   ],
   "source": [
    "7//4"
   ]
  },
  {
   "cell_type": "code",
   "execution_count": 29,
   "id": "5d3bbe7d-1181-4e9b-b2b1-45e412ac716e",
   "metadata": {
    "tags": []
   },
   "outputs": [
    {
     "data": {
      "text/plain": [
       "\u001b[0;31mDocstring:\u001b[0m\n",
       "print(value, ..., sep=' ', end='\\n', file=sys.stdout, flush=False)\n",
       "\n",
       "Prints the values to a stream, or to sys.stdout by default.\n",
       "Optional keyword arguments:\n",
       "file:  a file-like object (stream); defaults to the current sys.stdout.\n",
       "sep:   string inserted between values, default a space.\n",
       "end:   string appended after the last value, default a newline.\n",
       "flush: whether to forcibly flush the stream.\n",
       "\u001b[0;31mType:\u001b[0m      builtin_function_or_method\n"
      ]
     },
     "metadata": {},
     "output_type": "display_data"
    }
   ],
   "source": [
    "print?"
   ]
  },
  {
   "cell_type": "code",
   "execution_count": 30,
   "id": "7a6b5736-6c44-48ba-81fc-3555cbc27e6e",
   "metadata": {},
   "outputs": [
    {
     "name": "stdout",
     "output_type": "stream",
     "text": [
      "Help on built-in function print in module builtins:\n",
      "\n",
      "print(...)\n",
      "    print(value, ..., sep=' ', end='\\n', file=sys.stdout, flush=False)\n",
      "    \n",
      "    Prints the values to a stream, or to sys.stdout by default.\n",
      "    Optional keyword arguments:\n",
      "    file:  a file-like object (stream); defaults to the current sys.stdout.\n",
      "    sep:   string inserted between values, default a space.\n",
      "    end:   string appended after the last value, default a newline.\n",
      "    flush: whether to forcibly flush the stream.\n",
      "\n"
     ]
    }
   ],
   "source": [
    "help(print)"
   ]
  },
  {
   "cell_type": "code",
   "execution_count": 35,
   "id": "c5f79aa7-a15b-43a0-a4f1-7098ebc29577",
   "metadata": {},
   "outputs": [
    {
     "data": {
      "text/plain": [
       "\u001b[0;31mSignature:\u001b[0m \u001b[0minput\u001b[0m\u001b[0;34m(\u001b[0m\u001b[0mprompt\u001b[0m\u001b[0;34m=\u001b[0m\u001b[0;34m''\u001b[0m\u001b[0;34m)\u001b[0m\u001b[0;34m\u001b[0m\u001b[0;34m\u001b[0m\u001b[0m\n",
       "\u001b[0;31mDocstring:\u001b[0m\n",
       "Forward raw_input to frontends\n",
       "\n",
       "Raises\n",
       "------\n",
       "StdinNotImplementedError if active frontend doesn't support stdin.\n",
       "\u001b[0;31mFile:\u001b[0m      ~/opt/anaconda3/lib/python3.9/site-packages/ipykernel/kernelbase.py\n",
       "\u001b[0;31mType:\u001b[0m      method\n"
      ]
     },
     "metadata": {},
     "output_type": "display_data"
    }
   ],
   "source": [
    "input?"
   ]
  },
  {
   "cell_type": "code",
   "execution_count": 36,
   "id": "0b540a8a-5192-45b9-a266-6b6de6b074d7",
   "metadata": {},
   "outputs": [
    {
     "name": "stdin",
     "output_type": "stream",
     "text": [
      "숫자를입력하세요 >>> 444\n"
     ]
    }
   ],
   "source": [
    "num1=input('숫자를입력하세요 >>>')"
   ]
  },
  {
   "cell_type": "code",
   "execution_count": 39,
   "id": "daa7a210-206e-4899-9d1e-d1657276cc41",
   "metadata": {},
   "outputs": [],
   "source": [
    "# 박스에 과일을 넣는 작업중입니다.\n",
    "# 박스당 들어가는 과일의 갯수와 전체 과일의 갯수를 입력받아서\n",
    "# 몇 박스 몇개가 남는지 출력합니다."
   ]
  },
  {
   "cell_type": "code",
   "execution_count": 40,
   "id": "33aa1d41-0a6a-4888-bd77-6007d4d67d78",
   "metadata": {},
   "outputs": [],
   "source": [
    "box1=10\n",
    "fruit=90"
   ]
  },
  {
   "cell_type": "code",
   "execution_count": 43,
   "id": "f6155e1e-751f-4965-b88c-0636180d3d49",
   "metadata": {},
   "outputs": [
    {
     "data": {
      "text/plain": [
       "9.0"
      ]
     },
     "execution_count": 43,
     "metadata": {},
     "output_type": "execute_result"
    }
   ],
   "source": [
    "fruit/box1"
   ]
  },
  {
   "cell_type": "code",
   "execution_count": 49,
   "id": "71fdf1ee-c5e1-4de2-86a0-5f1a84729247",
   "metadata": {},
   "outputs": [
    {
     "name": "stdout",
     "output_type": "stream",
     "text": [
      "9 박스\n",
      "0 개가 남습니다\n"
     ]
    }
   ],
   "source": [
    "print(fruit//box1,'박스')\n",
    "print(fruit%box1,'개가 남습니다')"
   ]
  },
  {
   "cell_type": "code",
   "execution_count": 50,
   "id": "a9d9e891-3fbe-4920-8037-bca09561a29f",
   "metadata": {},
   "outputs": [
    {
     "name": "stdin",
     "output_type": "stream",
     "text": [
      "박스당 들어가는과일의 갯수를 입력하세요 5\n"
     ]
    }
   ],
   "source": [
    "box=input('박스당 들어가는과일의 갯수를 입력하세요')"
   ]
  },
  {
   "cell_type": "code",
   "execution_count": 51,
   "id": "e09be111-ba34-49d7-a43f-85acfa24081b",
   "metadata": {},
   "outputs": [
    {
     "name": "stdin",
     "output_type": "stream",
     "text": [
      "전체과일의갯수를 입력하세요 45\n"
     ]
    }
   ],
   "source": [
    "fruit=input('전체과일의갯수를 입력하세요')"
   ]
  },
  {
   "cell_type": "code",
   "execution_count": 53,
   "id": "0e33af7e-b588-4f4b-857f-a21b4df0c9c2",
   "metadata": {},
   "outputs": [
    {
     "data": {
      "text/plain": [
       "str"
      ]
     },
     "execution_count": 53,
     "metadata": {},
     "output_type": "execute_result"
    }
   ],
   "source": [
    "type(box)"
   ]
  },
  {
   "cell_type": "code",
   "execution_count": 61,
   "id": "ee612f52-567f-4b30-8075-447f1796fad3",
   "metadata": {},
   "outputs": [
    {
     "name": "stdout",
     "output_type": "stream",
     "text": [
      "9 박스\n",
      "0 개남습니다\n"
     ]
    }
   ],
   "source": [
    "print(int(fruit)//int(box),'박스')\n",
    "print(int(fruit)%int(box),'개남습니다')"
   ]
  },
  {
   "cell_type": "code",
   "execution_count": 64,
   "id": "9e1d2277-8281-4036-a0ce-df29a3820407",
   "metadata": {},
   "outputs": [
    {
     "name": "stdin",
     "output_type": "stream",
     "text": [
      "박스당 들어가는과일의 갯수를 입력하세요 10\n",
      "전체과일의갯수를 입력하세요 20\n"
     ]
    },
    {
     "name": "stdout",
     "output_type": "stream",
     "text": [
      "2 박스\n",
      "0 개남습니다\n"
     ]
    }
   ],
   "source": [
    "box=input('박스당 들어가는과일의 갯수를 입력하세요')\n",
    "fruit=input('전체과일의갯수를 입력하세요')\n",
    "print(int(fruit)//int(box),'박스')\n",
    "print(int(fruit)%int(box),'개남습니다')"
   ]
  },
  {
   "cell_type": "markdown",
   "id": "bdc71b19-8c6e-418e-b6d2-97362839d7dc",
   "metadata": {},
   "source": [
    "## 문자열 자료형"
   ]
  },
  {
   "cell_type": "code",
   "execution_count": 72,
   "id": "94dea489-f6d3-4ca9-b39c-53ca20d20a23",
   "metadata": {},
   "outputs": [
    {
     "data": {
      "text/plain": [
       "\"hello 'world'\""
      ]
     },
     "execution_count": 72,
     "metadata": {},
     "output_type": "execute_result"
    }
   ],
   "source": [
    "str"
   ]
  },
  {
   "cell_type": "code",
   "execution_count": 73,
   "id": "1f73a3b6-8369-40bb-a689-1497e8c5b8ae",
   "metadata": {},
   "outputs": [],
   "source": [
    "del(str)"
   ]
  },
  {
   "cell_type": "code",
   "execution_count": 75,
   "id": "31770e85-cf1d-4f96-bc95-f51a95115a9b",
   "metadata": {},
   "outputs": [
    {
     "data": {
      "text/plain": [
       "'hello\\n!!!\\n!!!\\n'"
      ]
     },
     "execution_count": 75,
     "metadata": {},
     "output_type": "execute_result"
    }
   ],
   "source": [
    "'''hello\n",
    "!!!\n",
    "!!!\n",
    "'''"
   ]
  },
  {
   "cell_type": "code",
   "execution_count": 76,
   "id": "30159a3b-049c-49fe-8940-a5cfac93e825",
   "metadata": {},
   "outputs": [
    {
     "data": {
      "text/plain": [
       "\"python's\""
      ]
     },
     "execution_count": 76,
     "metadata": {},
     "output_type": "execute_result"
    }
   ],
   "source": [
    "\"python's\""
   ]
  },
  {
   "cell_type": "code",
   "execution_count": 80,
   "id": "5d675837-1962-4439-875f-5bf93fae4cf7",
   "metadata": {},
   "outputs": [
    {
     "data": {
      "text/plain": [
       "17"
      ]
     },
     "execution_count": 80,
     "metadata": {},
     "output_type": "execute_result"
    }
   ],
   "source": [
    "a='life is too short'\n",
    "len(a)"
   ]
  },
  {
   "cell_type": "code",
   "execution_count": 81,
   "id": "7947eb35-3cbd-4b55-991e-e66e5ee04ea4",
   "metadata": {},
   "outputs": [
    {
     "data": {
      "text/plain": [
       "'l'"
      ]
     },
     "execution_count": 81,
     "metadata": {},
     "output_type": "execute_result"
    }
   ],
   "source": [
    "a[0:1]"
   ]
  },
  {
   "cell_type": "code",
   "execution_count": 86,
   "id": "91ac150a-5077-4bf5-98ef-483d042f731a",
   "metadata": {},
   "outputs": [
    {
     "data": {
      "text/plain": [
       "'Life'"
      ]
     },
     "execution_count": 86,
     "metadata": {},
     "output_type": "execute_result"
    }
   ],
   "source": [
    "a[0:4]"
   ]
  },
  {
   "cell_type": "code",
   "execution_count": 85,
   "id": "70f8998e-0662-49b0-99a9-9ae6290671a8",
   "metadata": {},
   "outputs": [],
   "source": [
    "a='Life is too short You need python'"
   ]
  },
  {
   "cell_type": "code",
   "execution_count": 87,
   "id": "22f7504b-51ff-4402-b585-b3bfe34c4066",
   "metadata": {},
   "outputs": [
    {
     "data": {
      "text/plain": [
       "'python'"
      ]
     },
     "execution_count": 87,
     "metadata": {},
     "output_type": "execute_result"
    }
   ],
   "source": [
    "a[-6:]"
   ]
  },
  {
   "cell_type": "code",
   "execution_count": 91,
   "id": "f9b9bbf9-0d42-4c77-bb63-6eb3e5f0117d",
   "metadata": {},
   "outputs": [],
   "source": [
    "#주민등록번호를 입력받아서 생년월일과 성별을 출력하세요\n",
    "#3항연산자를이용 조건? 참일때:거짓일때"
   ]
  },
  {
   "cell_type": "code",
   "execution_count": 108,
   "id": "5cbbfa1f-e4cd-40a8-9074-22a755baaff4",
   "metadata": {},
   "outputs": [
    {
     "name": "stdin",
     "output_type": "stream",
     "text": [
      "주민등록번호를 입력해주세요 981231-492455\n"
     ]
    },
    {
     "name": "stdout",
     "output_type": "stream",
     "text": [
      "생년월일: 981231\n",
      "성별: 여자\n"
     ]
    }
   ],
   "source": [
    "num=input('주민등록번호를 입력해주세요')\n",
    "birth=num[0:6]\n",
    "gender='여자' if num[7]=='2'or num[7]=='4'else'남자'\n",
    "print('생년월일:',birth)\n",
    "print('성별:',gender)"
   ]
  },
  {
   "cell_type": "markdown",
   "id": "fece8586-448a-4595-b04e-6a64b6fb49c9",
   "metadata": {},
   "source": [
    "# 문자열 포매팅"
   ]
  },
  {
   "cell_type": "code",
   "execution_count": 121,
   "id": "fdcf7c76-b149-40a8-be1e-02874f0a3520",
   "metadata": {},
   "outputs": [
    {
     "data": {
      "text/plain": [
       "'        hi'"
      ]
     },
     "execution_count": 121,
     "metadata": {},
     "output_type": "execute_result"
    }
   ],
   "source": [
    "\"%10s\" % \"hi\""
   ]
  },
  {
   "cell_type": "code",
   "execution_count": 130,
   "id": "77705a30-ec34-47c5-9d85-5529d4d27191",
   "metadata": {},
   "outputs": [
    {
     "data": {
      "text/plain": [
       "'I eat 424,243.24 lemons hing'"
      ]
     },
     "execution_count": 130,
     "metadata": {},
     "output_type": "execute_result"
    }
   ],
   "source": [
    "'I eat {:^10,.2f} lemons {}'.format(424243.241241,'hing')"
   ]
  },
  {
   "cell_type": "code",
   "execution_count": 134,
   "id": "73cbf4c4-c789-4642-9b47-15109ae2cd34",
   "metadata": {},
   "outputs": [
    {
     "name": "stdout",
     "output_type": "stream",
     "text": [
      "Life is too short You need python\n"
     ]
    },
    {
     "data": {
      "text/plain": [
       "0"
      ]
     },
     "execution_count": 134,
     "metadata": {},
     "output_type": "execute_result"
    }
   ],
   "source": [
    "print(a)\n",
    "a.count('a')"
   ]
  },
  {
   "cell_type": "code",
   "execution_count": 136,
   "id": "e99df08d-52b3-438c-9fe4-5cf59b9e52e0",
   "metadata": {},
   "outputs": [
    {
     "data": {
      "text/plain": [
       "'a:b:c:d'"
      ]
     },
     "execution_count": 136,
     "metadata": {},
     "output_type": "execute_result"
    }
   ],
   "source": [
    "':'.join('abcd')"
   ]
  },
  {
   "cell_type": "code",
   "execution_count": 138,
   "id": "39fb1008-e01b-41d0-a4bb-2913c2c254f4",
   "metadata": {},
   "outputs": [
    {
     "data": {
      "text/plain": [
       "'avd:bvv:ccc'"
      ]
     },
     "execution_count": 138,
     "metadata": {},
     "output_type": "execute_result"
    }
   ],
   "source": [
    "':'.join(['avd','bvv','ccc'])"
   ]
  },
  {
   "cell_type": "code",
   "execution_count": 139,
   "id": "3c6a621d-0644-47fe-94a5-6b11863b45e7",
   "metadata": {},
   "outputs": [
    {
     "data": {
      "text/plain": [
       "['Life', 'is', 'too', 'short']"
      ]
     },
     "execution_count": 139,
     "metadata": {},
     "output_type": "execute_result"
    }
   ],
   "source": [
    "str=\"Life,is,too,short\"\n",
    "str.split(sep=',')"
   ]
  },
  {
   "cell_type": "code",
   "execution_count": 148,
   "id": "fbef951a-02c1-4d1c-a1c7-5edf9d926634",
   "metadata": {},
   "outputs": [
    {
     "name": "stdout",
     "output_type": "stream",
     "text": [
      "taxi\n",
      "----\n"
     ]
    }
   ],
   "source": [
    "money=True\n",
    "if money:\n",
    "    print('taxi')\n",
    "    print('----')\n",
    "else:\n",
    "    print('bus')\n",
    "    print('----')"
   ]
  },
  {
   "cell_type": "code",
   "execution_count": 151,
   "id": "661ed4a5-0284-4505-a2c5-f11f33d277c4",
   "metadata": {},
   "outputs": [],
   "source": [
    "if 'cash' in ['card','cash']:\n",
    "    pass\n",
    "else:\n",
    "    print('카드를꺼내자')"
   ]
  },
  {
   "cell_type": "code",
   "execution_count": 152,
   "id": "156bcc74-977f-4023-b061-7acd7b593a71",
   "metadata": {},
   "outputs": [
    {
     "name": "stdout",
     "output_type": "stream",
     "text": [
      "나무를 1번찍었습니다\n",
      "나무를 2번찍었습니다\n",
      "나무를 3번찍었습니다\n",
      "나무를 4번찍었습니다\n",
      "나무를 5번찍었습니다\n",
      "나무를 6번찍었습니다\n",
      "나무를 7번찍었습니다\n",
      "나무를 8번찍었습니다\n",
      "나무를 9번찍었습니다\n",
      "나무를 10번찍었습니다\n",
      "나무가 넘어갑니다.\n"
     ]
    }
   ],
   "source": [
    "treehit=0\n",
    "while treehit<10:\n",
    "    treehit=treehit+1\n",
    "    print(\"나무를 %d번찍었습니다\" %treehit)\n",
    "    if treehit==10:\n",
    "        print(\"나무가 넘어갑니다.\")"
   ]
  },
  {
   "cell_type": "code",
   "execution_count": 155,
   "id": "7e802ffe-9c0c-4ebf-b9a7-fab87ef73f8d",
   "metadata": {},
   "outputs": [
    {
     "name": "stdout",
     "output_type": "stream",
     "text": [
      "1\n",
      "2\n",
      "4\n",
      "5\n",
      "7\n",
      "8\n",
      "10\n"
     ]
    }
   ],
   "source": [
    "c=0\n",
    "while c<10:\n",
    "    c=c+1\n",
    "    if c%3==0:continue\n",
    "    print(c)"
   ]
  },
  {
   "cell_type": "code",
   "execution_count": 161,
   "id": "b28fb7dc-da32-4884-9fd3-67107822c795",
   "metadata": {},
   "outputs": [
    {
     "name": "stdout",
     "output_type": "stream",
     "text": [
      "first: 1 last: 2\n",
      "first: 3 last: 4\n",
      "first: 5 last: 6\n"
     ]
    }
   ],
   "source": [
    "c=[(1,2),(3,4),(5,6)]\n",
    "for(first,last) in c:\n",
    "    print(\"first:\",first,\"last:\",last)"
   ]
  },
  {
   "cell_type": "code",
   "execution_count": 183,
   "id": "7a56b32e-9742-4994-bba1-3a15a9f850ec",
   "metadata": {},
   "outputs": [
    {
     "name": "stdout",
     "output_type": "stream",
     "text": [
      "-2단-\n",
      "2x1=2\n",
      "2x2=4\n",
      "2x3=6\n",
      "2x4=8\n",
      "2x5=10\n",
      "2x6=12\n",
      "2x7=14\n",
      "2x8=16\n",
      "2x9=18\n",
      "\n",
      "\n",
      "-3단-\n",
      "3x1=3\n",
      "3x2=6\n",
      "3x3=9\n",
      "3x4=12\n",
      "3x5=15\n",
      "3x6=18\n",
      "3x7=21\n",
      "3x8=24\n",
      "3x9=27\n",
      "\n",
      "\n",
      "-4단-\n",
      "4x1=4\n",
      "4x2=8\n",
      "4x3=12\n",
      "4x4=16\n",
      "4x5=20\n",
      "4x6=24\n",
      "4x7=28\n",
      "4x8=32\n",
      "4x9=36\n",
      "\n",
      "\n",
      "-5단-\n",
      "5x1=5\n",
      "5x2=10\n",
      "5x3=15\n",
      "5x4=20\n",
      "5x5=25\n",
      "5x6=30\n",
      "5x7=35\n",
      "5x8=40\n",
      "5x9=45\n",
      "\n",
      "\n",
      "-6단-\n",
      "6x1=6\n",
      "6x2=12\n",
      "6x3=18\n",
      "6x4=24\n",
      "6x5=30\n",
      "6x6=36\n",
      "6x7=42\n",
      "6x8=48\n",
      "6x9=54\n",
      "\n",
      "\n",
      "-7단-\n",
      "7x1=7\n",
      "7x2=14\n",
      "7x3=21\n",
      "7x4=28\n",
      "7x5=35\n",
      "7x6=42\n",
      "7x7=49\n",
      "7x8=56\n",
      "7x9=63\n",
      "\n",
      "\n",
      "-8단-\n",
      "8x1=8\n",
      "8x2=16\n",
      "8x3=24\n",
      "8x4=32\n",
      "8x5=40\n",
      "8x6=48\n",
      "8x7=56\n",
      "8x8=64\n",
      "8x9=72\n",
      "\n",
      "\n",
      "-9단-\n",
      "9x1=9\n",
      "9x2=18\n",
      "9x3=27\n",
      "9x4=36\n",
      "9x5=45\n",
      "9x6=54\n",
      "9x7=63\n",
      "9x8=72\n",
      "9x9=81\n",
      "\n",
      "\n"
     ]
    }
   ],
   "source": [
    "for i in range(2, 10):\n",
    "    for j in range(1, 10):\n",
    "        if j==1:print(f\"-{i}단-\")\n",
    "        print(f\"{i}x{j}={i*j}\")\n",
    "        if j==9:print(\"\\n\")"
   ]
  },
  {
   "cell_type": "code",
   "execution_count": 186,
   "id": "07b538f7-6ea4-49cd-b157-52cce25833e6",
   "metadata": {},
   "outputs": [
    {
     "name": "stdout",
     "output_type": "stream",
     "text": [
      "-2단-\n",
      "2x1= 2\n",
      "2x2= 4\n",
      "2x3= 6\n",
      "2x4= 8\n",
      "2x5=10\n",
      "2x6=12\n",
      "2x7=14\n",
      "2x8=16\n",
      "2x9=18\n",
      "\n",
      "-3단-\n",
      "3x1= 3\n",
      "3x2= 6\n",
      "3x3= 9\n",
      "3x4=12\n",
      "3x5=15\n",
      "3x6=18\n",
      "3x7=21\n",
      "3x8=24\n",
      "3x9=27\n",
      "\n",
      "-4단-\n",
      "4x1= 4\n",
      "4x2= 8\n",
      "4x3=12\n",
      "4x4=16\n",
      "4x5=20\n",
      "4x6=24\n",
      "4x7=28\n",
      "4x8=32\n",
      "4x9=36\n",
      "\n",
      "-5단-\n",
      "5x1= 5\n",
      "5x2=10\n",
      "5x3=15\n",
      "5x4=20\n",
      "5x5=25\n",
      "5x6=30\n",
      "5x7=35\n",
      "5x8=40\n",
      "5x9=45\n",
      "\n",
      "-6단-\n",
      "6x1= 6\n",
      "6x2=12\n",
      "6x3=18\n",
      "6x4=24\n",
      "6x5=30\n",
      "6x6=36\n",
      "6x7=42\n",
      "6x8=48\n",
      "6x9=54\n",
      "\n",
      "-7단-\n",
      "7x1= 7\n",
      "7x2=14\n",
      "7x3=21\n",
      "7x4=28\n",
      "7x5=35\n",
      "7x6=42\n",
      "7x7=49\n",
      "7x8=56\n",
      "7x9=63\n",
      "\n",
      "-8단-\n",
      "8x1= 8\n",
      "8x2=16\n",
      "8x3=24\n",
      "8x4=32\n",
      "8x5=40\n",
      "8x6=48\n",
      "8x7=56\n",
      "8x8=64\n",
      "8x9=72\n",
      "\n",
      "-9단-\n",
      "9x1= 9\n",
      "9x2=18\n",
      "9x3=27\n",
      "9x4=36\n",
      "9x5=45\n",
      "9x6=54\n",
      "9x7=63\n",
      "9x8=72\n",
      "9x9=81\n",
      "\n"
     ]
    }
   ],
   "source": [
    "for i in range(2, 10):\n",
    "    print(f\"-{i}단-\")\n",
    "    for j in range(1, 10):\n",
    "        print(f\"{i}x{j}={i*j:2}\")\n",
    "    print()"
   ]
  },
  {
   "cell_type": "code",
   "execution_count": 193,
   "id": "c8eaeac8-4d8b-462e-8dce-65d9ecebcb2a",
   "metadata": {},
   "outputs": [
    {
     "name": "stdout",
     "output_type": "stream",
     "text": [
      "2x1= 2    3x1= 3    4x1= 4    5x1= 5    6x1= 6    7x1= 7    8x1= 8    9x1= 9    \n",
      "2x2= 4    3x2= 6    4x2= 8    5x2=10    6x2=12    7x2=14    8x2=16    9x2=18    \n",
      "2x3= 6    3x3= 9    4x3=12    5x3=15    6x3=18    7x3=21    8x3=24    9x3=27    \n",
      "2x4= 8    3x4=12    4x4=16    5x4=20    6x4=24    7x4=28    8x4=32    9x4=36    \n",
      "2x5=10    3x5=15    4x5=20    5x5=25    6x5=30    7x5=35    8x5=40    9x5=45    \n",
      "2x6=12    3x6=18    4x6=24    5x6=30    6x6=36    7x6=42    8x6=48    9x6=54    \n",
      "2x7=14    3x7=21    4x7=28    5x7=35    6x7=42    7x7=49    8x7=56    9x7=63    \n",
      "2x8=16    3x8=24    4x8=32    5x8=40    6x8=48    7x8=56    8x8=64    9x8=72    \n",
      "2x9=18    3x9=27    4x9=36    5x9=45    6x9=54    7x9=63    8x9=72    9x9=81    \n"
     ]
    }
   ],
   "source": [
    "for i in range(1,10):\n",
    "    for j in range(2,10):\n",
    "        print(f\"{j}x{i}={j*i:2}\", end='    ')\n",
    "    print()"
   ]
  },
  {
   "cell_type": "code",
   "execution_count": null,
   "id": "bb860561-e17d-44ff-87ca-c060405375f4",
   "metadata": {},
   "outputs": [],
   "source": []
  }
 ],
 "metadata": {
  "kernelspec": {
   "display_name": "Python 3 (ipykernel)",
   "language": "python",
   "name": "python3"
  },
  "language_info": {
   "codemirror_mode": {
    "name": "ipython",
    "version": 3
   },
   "file_extension": ".py",
   "mimetype": "text/x-python",
   "name": "python",
   "nbconvert_exporter": "python",
   "pygments_lexer": "ipython3",
   "version": "3.9.12"
  }
 },
 "nbformat": 4,
 "nbformat_minor": 5
}
