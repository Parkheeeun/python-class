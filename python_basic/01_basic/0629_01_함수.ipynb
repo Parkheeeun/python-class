{
 "cells": [
  {
   "cell_type": "code",
   "execution_count": 6,
   "id": "6158ecb9-5cd6-4432-a493-0ceb93cf338e",
   "metadata": {},
   "outputs": [],
   "source": [
    "def say():\n",
    "    return 'HI'"
   ]
  },
  {
   "cell_type": "code",
   "execution_count": 7,
   "id": "1998458e-bb05-42f9-81f3-ed983cae7ae4",
   "metadata": {},
   "outputs": [
    {
     "data": {
      "text/plain": [
       "'HI'"
      ]
     },
     "execution_count": 7,
     "metadata": {},
     "output_type": "execute_result"
    }
   ],
   "source": [
    "say()"
   ]
  },
  {
   "cell_type": "code",
   "execution_count": 8,
   "id": "820ccc33-5fbe-4c64-a356-35cecd2c8729",
   "metadata": {},
   "outputs": [],
   "source": [
    "def add(a,b):\n",
    "    return a,b"
   ]
  },
  {
   "cell_type": "code",
   "execution_count": 9,
   "id": "1ee096e9-e6d9-44ac-9174-55df9377c2e1",
   "metadata": {},
   "outputs": [
    {
     "data": {
      "text/plain": [
       "(3, 1)"
      ]
     },
     "execution_count": 9,
     "metadata": {},
     "output_type": "execute_result"
    }
   ],
   "source": [
    "add(b=1,a=3)"
   ]
  },
  {
   "cell_type": "code",
   "execution_count": 14,
   "id": "92073487-5dc5-4e8c-9d36-72ffec876827",
   "metadata": {},
   "outputs": [],
   "source": [
    " def add_mul(choice,*args): \n",
    "    if choice == \"add\": \n",
    "        result = 0 \n",
    "        for i in args: \n",
    "            result = result + i \n",
    "    elif choice == \"mul\": \n",
    "        result = 1 \n",
    "        for i in args: \n",
    "            result = result * i \n",
    "    return result "
   ]
  },
  {
   "cell_type": "code",
   "execution_count": 15,
   "id": "acb8ef0e-37d7-443e-8e69-dcb13e521c8a",
   "metadata": {},
   "outputs": [
    {
     "data": {
      "text/plain": [
       "10"
      ]
     },
     "execution_count": 15,
     "metadata": {},
     "output_type": "execute_result"
    }
   ],
   "source": [
    "add_mul('add',1,2,3,4)"
   ]
  },
  {
   "cell_type": "code",
   "execution_count": 16,
   "id": "e61c587b-ef61-428f-9a13-a91f597817d9",
   "metadata": {},
   "outputs": [],
   "source": [
    "#정규표현식"
   ]
  },
  {
   "cell_type": "code",
   "execution_count": 37,
   "id": "c8027b44-1c8c-4600-b77c-68392bb18595",
   "metadata": {},
   "outputs": [
    {
     "name": "stdin",
     "output_type": "stream",
     "text": [
      "이메일입력>>> iamd\n"
     ]
    },
    {
     "name": "stdout",
     "output_type": "stream",
     "text": [
      "None\n"
     ]
    }
   ],
   "source": [
    "import re\n",
    "p=re.compile('[a-z][a-z0-9]{4,}@[a-z]{2,}[.](kr|com|org|net)$')\n",
    "email=input('이메일입력>>>')\n",
    "result=p.match(email)\n",
    "print(result)"
   ]
  },
  {
   "cell_type": "code",
   "execution_count": null,
   "id": "5ffd7669-0525-4281-ae65-c0e270fe57be",
   "metadata": {},
   "outputs": [],
   "source": []
  }
 ],
 "metadata": {
  "kernelspec": {
   "display_name": "Python 3 (ipykernel)",
   "language": "python",
   "name": "python3"
  },
  "language_info": {
   "codemirror_mode": {
    "name": "ipython",
    "version": 3
   },
   "file_extension": ".py",
   "mimetype": "text/x-python",
   "name": "python",
   "nbconvert_exporter": "python",
   "pygments_lexer": "ipython3",
   "version": "3.9.12"
  }
 },
 "nbformat": 4,
 "nbformat_minor": 5
}
